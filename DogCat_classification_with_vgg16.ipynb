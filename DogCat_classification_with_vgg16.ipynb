{
 "cells": [
  {
   "cell_type": "markdown",
   "metadata": {},
   "source": [
    "# Build Vgg16 model from scratch\n"
   ]
  },
  {
   "cell_type": "markdown",
   "metadata": {},
   "source": [
    "# Data preparation"
   ]
  },
  {
   "cell_type": "code",
   "execution_count": 1,
   "metadata": {
    "collapsed": false
   },
   "outputs": [
    {
     "data": {
      "text/plain": [
       "u'/home/ubuntu/nbs'"
      ]
     },
     "execution_count": 1,
     "metadata": {},
     "output_type": "execute_result"
    }
   ],
   "source": [
    "#Verify we are in the project directory\n",
    "%pwd"
   ]
  },
  {
   "cell_type": "code",
   "execution_count": 2,
   "metadata": {
    "collapsed": true
   },
   "outputs": [],
   "source": [
    "#Create references to important directories we will use over and over\n",
    "import os, sys\n",
    "current_dir = os.getcwd()\n",
    "LESSON_HOME_DIR = current_dir\n",
    "DATA_HOME_DIR = current_dir+'/data/'"
   ]
  },
  {
   "cell_type": "code",
   "execution_count": 3,
   "metadata": {
    "collapsed": false
   },
   "outputs": [
    {
     "name": "stdout",
     "output_type": "stream",
     "text": [
      "/home/ubuntu/nbs/data\n"
     ]
    }
   ],
   "source": [
    "# Create directories\n",
    "%cd $DATA_HOME_DIR\n",
    "%mkdir valid\n",
    "%mkdir results\n",
    "%mkdir -p sample/train\n",
    "%mkdir -p sample/test\n",
    "%mkdir -p sample/valid\n",
    "%mkdir -p sample/results\n",
    "%mkdir -p test/unknown"
   ]
  },
  {
   "cell_type": "code",
   "execution_count": 4,
   "metadata": {
    "collapsed": false
   },
   "outputs": [
    {
     "name": "stdout",
     "output_type": "stream",
     "text": [
      "/home/ubuntu/nbs/data/train\n"
     ]
    }
   ],
   "source": [
    "%cd $DATA_HOME_DIR/train"
   ]
  },
  {
   "cell_type": "markdown",
   "metadata": {},
   "source": [
    "### Prepare the train and validation data"
   ]
  },
  {
   "cell_type": "code",
   "execution_count": 7,
   "metadata": {
    "collapsed": false
   },
   "outputs": [],
   "source": [
    "from glob import glob\n",
    "g = glob('*.jpg')\n",
    "shuf = np.random.permutation(g)\n",
    "for i in range(2000): os.rename(shuf[i], DATA_HOME_DIR+'/valid/' + shuf[i])"
   ]
  },
  {
   "cell_type": "code",
   "execution_count": 8,
   "metadata": {
    "collapsed": true
   },
   "outputs": [],
   "source": [
    "from shutil import copyfile\n",
    "g = glob('*.jpg')\n",
    "shuf = np.random.permutation(g)\n",
    "for i in range(200): copyfile(shuf[i], DATA_HOME_DIR+'/sample/train/' + shuf[i])"
   ]
  },
  {
   "cell_type": "markdown",
   "metadata": {},
   "source": [
    "### Prepare sample data for quick experiements"
   ]
  },
  {
   "cell_type": "code",
   "execution_count": 9,
   "metadata": {
    "collapsed": false
   },
   "outputs": [
    {
     "name": "stdout",
     "output_type": "stream",
     "text": [
      "/home/ubuntu/nbs/data/valid\n"
     ]
    }
   ],
   "source": [
    "%cd $DATA_HOME_DIR/valid"
   ]
  },
  {
   "cell_type": "code",
   "execution_count": 10,
   "metadata": {
    "collapsed": true
   },
   "outputs": [],
   "source": [
    "g = glob('*.jpg')\n",
    "shuf = np.random.permutation(g)\n",
    "for i in range(50): copyfile(shuf[i], DATA_HOME_DIR+'/sample/valid/' + shuf[i])"
   ]
  },
  {
   "cell_type": "markdown",
   "metadata": {},
   "source": [
    "### Distribute data to appropreate folders"
   ]
  },
  {
   "cell_type": "code",
   "execution_count": 11,
   "metadata": {
    "collapsed": false
   },
   "outputs": [
    {
     "name": "stdout",
     "output_type": "stream",
     "text": [
      "/home/ubuntu/nbs/data/sample/train\n",
      "/home/ubuntu/nbs/data/sample/valid\n",
      "/home/ubuntu/nbs/data/valid\n",
      "/home/ubuntu/nbs/data/train\n"
     ]
    }
   ],
   "source": [
    "#Divide cat/dog images into separate directories\n",
    "\n",
    "%cd $DATA_HOME_DIR/sample/train\n",
    "%mkdir cats\n",
    "%mkdir dogs\n",
    "%mv cat.*.jpg cats/\n",
    "%mv dog.*.jpg dogs/\n",
    "\n",
    "%cd $DATA_HOME_DIR/sample/valid\n",
    "%mkdir cats\n",
    "%mkdir dogs\n",
    "%mv cat.*.jpg cats/\n",
    "%mv dog.*.jpg dogs/\n",
    "\n",
    "%cd $DATA_HOME_DIR/valid\n",
    "%mkdir cats\n",
    "%mkdir dogs\n",
    "%mv cat.*.jpg cats/\n",
    "%mv dog.*.jpg dogs/\n",
    "\n",
    "%cd $DATA_HOME_DIR/train\n",
    "%mkdir cats\n",
    "%mkdir dogs\n",
    "%mv cat.*.jpg cats/\n",
    "%mv dog.*.jpg dogs/"
   ]
  },
  {
   "cell_type": "markdown",
   "metadata": {},
   "source": [
    "# Model Preparation"
   ]
  },
  {
   "cell_type": "code",
   "execution_count": 6,
   "metadata": {
    "collapsed": false
   },
   "outputs": [
    {
     "name": "stderr",
     "output_type": "stream",
     "text": [
      "Using Theano backend.\n",
      "Using gpu device 0: Tesla K80 (CNMeM is disabled, cuDNN 5103)\n",
      "/home/ubuntu/anaconda2/lib/python2.7/site-packages/theano/sandbox/cuda/__init__.py:600: UserWarning: Your cuDNN version is more recent than the one Theano officially supports. If you see any problems, try updating Theano or downgrading cuDNN to version 5.\n",
      "  warnings.warn(warn)\n"
     ]
    }
   ],
   "source": [
    "# Load packages\n",
    "from numpy.random import random, permutation\n",
    "from scipy import misc, ndimage\n",
    "from scipy.ndimage.interpolation import zoom\n",
    "import numpy as np\n",
    "import json, os\n",
    "\n",
    "import keras\n",
    "from keras import backend as K\n",
    "from keras.utils.data_utils import get_file\n",
    "from keras.models import Sequential, Model\n",
    "from keras.layers.core import Flatten, Dense, Dropout, Lambda\n",
    "from keras.layers import Input\n",
    "from keras.layers.convolutional import Convolution2D, MaxPooling2D, ZeroPadding2D\n",
    "from keras.optimizers import SGD, RMSprop, Adam\n",
    "from keras.preprocessing import image\n"
   ]
  },
  {
   "cell_type": "markdown",
   "metadata": {},
   "source": [
    "## Preprocessing\n",
    "Vgg is trained using imageNet images. The authors substracted average channel values so that their input data has zero mean for each channel. In addtion, their channel order is B,G,R, whereas Python by default uses R,G,B. We need to preprocess our data to make these two changes."
   ]
  },
  {
   "cell_type": "code",
   "execution_count": 12,
   "metadata": {
    "collapsed": false
   },
   "outputs": [
    {
     "data": {
      "text/plain": [
       "array([[[ 123.68 ]],\n",
       "\n",
       "       [[ 116.779]],\n",
       "\n",
       "       [[ 103.939]]])"
      ]
     },
     "execution_count": 12,
     "metadata": {},
     "output_type": "execute_result"
    }
   ],
   "source": [
    "# Channel B,G, R means\n",
    "vgg_mean = np.array([123.68, 116.779, 103.939]).reshape((3,1,1))\n",
    "\n",
    "def vgg_preprocess(x):\n",
    "    x = x - vgg_mean     # subtract mean\n",
    "    return x[:, ::-1]    # change order to BGR \n",
    "\n",
    "vgg_mean"
   ]
  },
  {
   "cell_type": "markdown",
   "metadata": {},
   "source": [
    "# Building Vgg16 model"
   ]
  },
  {
   "cell_type": "code",
   "execution_count": 13,
   "metadata": {
    "collapsed": false
   },
   "outputs": [
    {
     "name": "stdout",
     "output_type": "stream",
     "text": [
      "____________________________________________________________________________________________________\n",
      "Layer (type)                     Output Shape          Param #     Connected to                     \n",
      "====================================================================================================\n",
      "lambda_1 (Lambda)                (None, 3, 224, 224)   0           lambda_input_1[0][0]             \n",
      "____________________________________________________________________________________________________\n",
      "zeropadding2d_1 (ZeroPadding2D)  (None, 3, 226, 226)   0           lambda_1[0][0]                   \n",
      "____________________________________________________________________________________________________\n",
      "convolution2d_1 (Convolution2D)  (None, 64, 224, 224)  1792        zeropadding2d_1[0][0]            \n",
      "____________________________________________________________________________________________________\n",
      "zeropadding2d_2 (ZeroPadding2D)  (None, 64, 226, 226)  0           convolution2d_1[0][0]            \n",
      "____________________________________________________________________________________________________\n",
      "convolution2d_2 (Convolution2D)  (None, 64, 224, 224)  36928       zeropadding2d_2[0][0]            \n",
      "____________________________________________________________________________________________________\n",
      "maxpooling2d_1 (MaxPooling2D)    (None, 64, 112, 112)  0           convolution2d_2[0][0]            \n",
      "____________________________________________________________________________________________________\n",
      "zeropadding2d_3 (ZeroPadding2D)  (None, 64, 114, 114)  0           maxpooling2d_1[0][0]             \n",
      "____________________________________________________________________________________________________\n",
      "convolution2d_3 (Convolution2D)  (None, 128, 112, 112) 73856       zeropadding2d_3[0][0]            \n",
      "____________________________________________________________________________________________________\n",
      "zeropadding2d_4 (ZeroPadding2D)  (None, 128, 114, 114) 0           convolution2d_3[0][0]            \n",
      "____________________________________________________________________________________________________\n",
      "convolution2d_4 (Convolution2D)  (None, 128, 112, 112) 147584      zeropadding2d_4[0][0]            \n",
      "____________________________________________________________________________________________________\n",
      "maxpooling2d_2 (MaxPooling2D)    (None, 128, 56, 56)   0           convolution2d_4[0][0]            \n",
      "____________________________________________________________________________________________________\n",
      "zeropadding2d_5 (ZeroPadding2D)  (None, 128, 58, 58)   0           maxpooling2d_2[0][0]             \n",
      "____________________________________________________________________________________________________\n",
      "convolution2d_5 (Convolution2D)  (None, 256, 56, 56)   295168      zeropadding2d_5[0][0]            \n",
      "____________________________________________________________________________________________________\n",
      "zeropadding2d_6 (ZeroPadding2D)  (None, 256, 58, 58)   0           convolution2d_5[0][0]            \n",
      "____________________________________________________________________________________________________\n",
      "convolution2d_6 (Convolution2D)  (None, 256, 56, 56)   590080      zeropadding2d_6[0][0]            \n",
      "____________________________________________________________________________________________________\n",
      "zeropadding2d_7 (ZeroPadding2D)  (None, 256, 58, 58)   0           convolution2d_6[0][0]            \n",
      "____________________________________________________________________________________________________\n",
      "convolution2d_7 (Convolution2D)  (None, 256, 56, 56)   590080      zeropadding2d_7[0][0]            \n",
      "____________________________________________________________________________________________________\n",
      "maxpooling2d_3 (MaxPooling2D)    (None, 256, 28, 28)   0           convolution2d_7[0][0]            \n",
      "____________________________________________________________________________________________________\n",
      "zeropadding2d_8 (ZeroPadding2D)  (None, 256, 30, 30)   0           maxpooling2d_3[0][0]             \n",
      "____________________________________________________________________________________________________\n",
      "convolution2d_8 (Convolution2D)  (None, 512, 28, 28)   1180160     zeropadding2d_8[0][0]            \n",
      "____________________________________________________________________________________________________\n",
      "zeropadding2d_9 (ZeroPadding2D)  (None, 512, 30, 30)   0           convolution2d_8[0][0]            \n",
      "____________________________________________________________________________________________________\n",
      "convolution2d_9 (Convolution2D)  (None, 512, 28, 28)   2359808     zeropadding2d_9[0][0]            \n",
      "____________________________________________________________________________________________________\n",
      "zeropadding2d_10 (ZeroPadding2D) (None, 512, 30, 30)   0           convolution2d_9[0][0]            \n",
      "____________________________________________________________________________________________________\n",
      "convolution2d_10 (Convolution2D) (None, 512, 28, 28)   2359808     zeropadding2d_10[0][0]           \n",
      "____________________________________________________________________________________________________\n",
      "maxpooling2d_4 (MaxPooling2D)    (None, 512, 14, 14)   0           convolution2d_10[0][0]           \n",
      "____________________________________________________________________________________________________\n",
      "zeropadding2d_11 (ZeroPadding2D) (None, 512, 16, 16)   0           maxpooling2d_4[0][0]             \n",
      "____________________________________________________________________________________________________\n",
      "convolution2d_11 (Convolution2D) (None, 512, 14, 14)   2359808     zeropadding2d_11[0][0]           \n",
      "____________________________________________________________________________________________________\n",
      "zeropadding2d_12 (ZeroPadding2D) (None, 512, 16, 16)   0           convolution2d_11[0][0]           \n",
      "____________________________________________________________________________________________________\n",
      "convolution2d_12 (Convolution2D) (None, 512, 14, 14)   2359808     zeropadding2d_12[0][0]           \n",
      "____________________________________________________________________________________________________\n",
      "zeropadding2d_13 (ZeroPadding2D) (None, 512, 16, 16)   0           convolution2d_12[0][0]           \n",
      "____________________________________________________________________________________________________\n",
      "convolution2d_13 (Convolution2D) (None, 512, 14, 14)   2359808     zeropadding2d_13[0][0]           \n",
      "____________________________________________________________________________________________________\n",
      "maxpooling2d_5 (MaxPooling2D)    (None, 512, 7, 7)     0           convolution2d_13[0][0]           \n",
      "____________________________________________________________________________________________________\n",
      "flatten_1 (Flatten)              (None, 25088)         0           maxpooling2d_5[0][0]             \n",
      "____________________________________________________________________________________________________\n",
      "dense_1 (Dense)                  (None, 4096)          102764544   flatten_1[0][0]                  \n",
      "____________________________________________________________________________________________________\n",
      "dropout_1 (Dropout)              (None, 4096)          0           dense_1[0][0]                    \n",
      "____________________________________________________________________________________________________\n",
      "dense_2 (Dense)                  (None, 4096)          16781312    dropout_1[0][0]                  \n",
      "____________________________________________________________________________________________________\n",
      "dropout_2 (Dropout)              (None, 4096)          0           dense_2[0][0]                    \n",
      "____________________________________________________________________________________________________\n",
      "dense_3 (Dense)                  (None, 1000)          4097000     dropout_2[0][0]                  \n",
      "====================================================================================================\n",
      "Total params: 138357544\n",
      "____________________________________________________________________________________________________\n"
     ]
    }
   ],
   "source": [
    "# Define vgg16 model as a Python object\n",
    "\n",
    "def Vgg16():\n",
    "    model = Sequential()\n",
    "    model.add(Lambda(vgg_preprocess, input_shape=(3,224,224))) # Theano shape\n",
    "    \n",
    "    ###### Convolution Block 1  #########\n",
    "    # Convolution layer 1\n",
    "    model.add(ZeroPadding2D((1,1)))\n",
    "    model.add(Convolution2D(64,3, 3, activation='relu' )) \n",
    "    # Convilution layer 2\n",
    "    model.add(ZeroPadding2D((1,1)))\n",
    "    model.add(Convolution2D(64,3, 3, activation='relu' ))\n",
    "    # Maxpool 1\n",
    "    model.add(MaxPooling2D((2,2), strides=(2,2)))\n",
    "   \n",
    "    ###### Convolution Block 2  #########\n",
    "    # Convolution layer 3\n",
    "    model.add(ZeroPadding2D((1,1)))\n",
    "    model.add(Convolution2D(128,3, 3, activation='relu' )) \n",
    "    # Convilution layer 4\n",
    "    model.add(ZeroPadding2D((1,1)))\n",
    "    model.add(Convolution2D(128,3, 3, activation='relu' ))\n",
    "    # Maxpool 2\n",
    "    model.add(MaxPooling2D((2,2), strides=(2,2)))\n",
    "    \n",
    "    ###### Convolution Block 3  #########\n",
    "    # Convolution layer 5\n",
    "    model.add(ZeroPadding2D((1,1)))\n",
    "    model.add(Convolution2D(256,3, 3, activation='relu' )) \n",
    "    # Convilution layer 6\n",
    "    model.add(ZeroPadding2D((1,1)))\n",
    "    model.add(Convolution2D(256,3, 3, activation='relu' ))\n",
    "    # Convilution layer 7\n",
    "    model.add(ZeroPadding2D((1,1)))\n",
    "    model.add(Convolution2D(256,3, 3, activation='relu' ))\n",
    "    # Maxpool 3\n",
    "    model.add(MaxPooling2D((2,2), strides=(2,2)))\n",
    "    \n",
    "    ###### Convolution Block 4  #########\n",
    "    # Convolution layer 5\n",
    "    model.add(ZeroPadding2D((1,1)))\n",
    "    model.add(Convolution2D(512,3, 3, activation='relu' )) \n",
    "    # Convilution layer 6\n",
    "    model.add(ZeroPadding2D((1,1)))\n",
    "    model.add(Convolution2D(512,3, 3, activation='relu' ))\n",
    "    # Convilution layer 7\n",
    "    model.add(ZeroPadding2D((1,1)))\n",
    "    model.add(Convolution2D(512,3, 3, activation='relu' ))\n",
    "    # Maxpool 3\n",
    "    model.add(MaxPooling2D((2,2), strides=(2,2)))\n",
    "    \n",
    "    ###### Convolution Block 5  #########\n",
    "    # Convolution layer 5\n",
    "    model.add(ZeroPadding2D((1,1)))\n",
    "    model.add(Convolution2D(512,3, 3, activation='relu' )) \n",
    "    # Convilution layer 6\n",
    "    model.add(ZeroPadding2D((1,1)))\n",
    "    model.add(Convolution2D(512,3, 3, activation='relu' ))\n",
    "    # Convilution layer 7\n",
    "    model.add(ZeroPadding2D((1,1)))\n",
    "    model.add(Convolution2D(512,3, 3, activation='relu' ))\n",
    "    # Maxpool 3\n",
    "    model.add(MaxPooling2D((2,2), strides=(2,2)))\n",
    "    \n",
    "    # Flatten layer\n",
    "    model.add(Flatten())\n",
    "    \n",
    "    # Dense 1\n",
    "    model.add(Dense(4096, activation='relu'))\n",
    "    model.add(Dropout(0.5))\n",
    "    \n",
    "    # Dense 2\n",
    "    model.add(Dense(4096, activation='relu'))\n",
    "    model.add(Dropout(0.5))\n",
    "    \n",
    "    model.add(Dense(1000, activation='softmax'))\n",
    "    return model\n",
    "model =Vgg16()\n",
    "model.summary() "
   ]
  },
  {
   "cell_type": "markdown",
   "metadata": {},
   "source": [
    "Now, let's download the pretrained weights that vgg16 creators has trained from iamgeNet"
   ]
  },
  {
   "cell_type": "code",
   "execution_count": 14,
   "metadata": {
    "collapsed": false
   },
   "outputs": [
    {
     "name": "stdout",
     "output_type": "stream",
     "text": [
      "Downloading data from http://www.platform.ai/models/vgg16.h5\n",
      "552861696/553482496 [============================>.] - ETA: 0s"
     ]
    }
   ],
   "source": [
    "# ulr to download pretrained weights\n",
    "FILES_PATH = 'http://www.platform.ai/models/';\n",
    "# using Keras get_file method to download and cache the weights\n",
    "fpath = get_file('vgg16.h5', FILES_PATH+'vgg16.h5', cache_subdir='models')\n",
    "# load the weights to our previous built vgg16 model\n",
    "model.load_weights(fpath)"
   ]
  },
  {
   "cell_type": "markdown",
   "metadata": {
    "collapsed": true
   },
   "source": [
    "# Adapt pretrained model to our classification problem"
   ]
  },
  {
   "cell_type": "markdown",
   "metadata": {},
   "source": [
    "What we did previously allows us to have a model that was trained on a very large number of ImageNet images to classify 1000 object categeries. During that training process, the model has learned many important features of the world such as shapes (rounds, squares, angles, etc), colors, faces, etc. Thus, we have a very general purpose model that may contain many features that we want to learn for our particular problems at hand. \n",
    "\n",
    "*** The important idea is if we are classifying objects that are not EVEN in the 1000 ImageNet categories, there are still learned features in the pretrained model that are relevant and useful to our problem **\n",
    "\n",
    "Now, come back to our specific problem - classify dogs and cats, we know that imageNet database contains a lot of dog and cat pictures. Therefore, the pretrained model (weights) may already contained important features to distinguish dogs and cats. We will leverage the pretrained model's power and also adapt to our specific tasks- classify two categories instead of 1000 categories.\n",
    "\n",
    "So, our plan is:\n",
    "\n",
    "1. Take the pretrained model and set all the layers except the last layer to be \"untrainable\", i.e., we will not train them. \n",
    "\n",
    "2. Stick a dense layer with softmax activation which outputs 2 categories at the end.\n",
    "\n",
    "2. Pass our data into the model to train the last dense layer.\n",
    "\n",
    "**** Why we remove the last layer? because it has a softmax activation and stick another dense layer with another softmax activation is unusual (odd) since softmax outputs probabilities, it often activates the last layer not interminate layers."
   ]
  },
  {
   "cell_type": "code",
   "execution_count": 15,
   "metadata": {
    "collapsed": true
   },
   "outputs": [],
   "source": [
    "# Set all the layers to untrainale.\n",
    "model.pop()\n",
    "for layer in model.layers: layer.trainable = False"
   ]
  },
  {
   "cell_type": "markdown",
   "metadata": {},
   "source": [
    "Add a dense layer on top of vgg16 model"
   ]
  },
  {
   "cell_type": "code",
   "execution_count": 16,
   "metadata": {
    "collapsed": true
   },
   "outputs": [],
   "source": [
    "model.add(Dense(2, activation = 'softmax'))"
   ]
  },
  {
   "cell_type": "code",
   "execution_count": 17,
   "metadata": {
    "collapsed": false
   },
   "outputs": [
    {
     "name": "stdout",
     "output_type": "stream",
     "text": [
      "____________________________________________________________________________________________________\n",
      "Layer (type)                     Output Shape          Param #     Connected to                     \n",
      "====================================================================================================\n",
      "lambda_1 (Lambda)                (None, 3, 224, 224)   0           lambda_input_1[0][0]             \n",
      "____________________________________________________________________________________________________\n",
      "zeropadding2d_1 (ZeroPadding2D)  (None, 3, 226, 226)   0           lambda_1[0][0]                   \n",
      "____________________________________________________________________________________________________\n",
      "convolution2d_1 (Convolution2D)  (None, 64, 224, 224)  0           zeropadding2d_1[0][0]            \n",
      "____________________________________________________________________________________________________\n",
      "zeropadding2d_2 (ZeroPadding2D)  (None, 64, 226, 226)  0           convolution2d_1[0][0]            \n",
      "____________________________________________________________________________________________________\n",
      "convolution2d_2 (Convolution2D)  (None, 64, 224, 224)  0           zeropadding2d_2[0][0]            \n",
      "____________________________________________________________________________________________________\n",
      "maxpooling2d_1 (MaxPooling2D)    (None, 64, 112, 112)  0           convolution2d_2[0][0]            \n",
      "____________________________________________________________________________________________________\n",
      "zeropadding2d_3 (ZeroPadding2D)  (None, 64, 114, 114)  0           maxpooling2d_1[0][0]             \n",
      "____________________________________________________________________________________________________\n",
      "convolution2d_3 (Convolution2D)  (None, 128, 112, 112) 0           zeropadding2d_3[0][0]            \n",
      "____________________________________________________________________________________________________\n",
      "zeropadding2d_4 (ZeroPadding2D)  (None, 128, 114, 114) 0           convolution2d_3[0][0]            \n",
      "____________________________________________________________________________________________________\n",
      "convolution2d_4 (Convolution2D)  (None, 128, 112, 112) 0           zeropadding2d_4[0][0]            \n",
      "____________________________________________________________________________________________________\n",
      "maxpooling2d_2 (MaxPooling2D)    (None, 128, 56, 56)   0           convolution2d_4[0][0]            \n",
      "____________________________________________________________________________________________________\n",
      "zeropadding2d_5 (ZeroPadding2D)  (None, 128, 58, 58)   0           maxpooling2d_2[0][0]             \n",
      "____________________________________________________________________________________________________\n",
      "convolution2d_5 (Convolution2D)  (None, 256, 56, 56)   0           zeropadding2d_5[0][0]            \n",
      "____________________________________________________________________________________________________\n",
      "zeropadding2d_6 (ZeroPadding2D)  (None, 256, 58, 58)   0           convolution2d_5[0][0]            \n",
      "____________________________________________________________________________________________________\n",
      "convolution2d_6 (Convolution2D)  (None, 256, 56, 56)   0           zeropadding2d_6[0][0]            \n",
      "____________________________________________________________________________________________________\n",
      "zeropadding2d_7 (ZeroPadding2D)  (None, 256, 58, 58)   0           convolution2d_6[0][0]            \n",
      "____________________________________________________________________________________________________\n",
      "convolution2d_7 (Convolution2D)  (None, 256, 56, 56)   0           zeropadding2d_7[0][0]            \n",
      "____________________________________________________________________________________________________\n",
      "maxpooling2d_3 (MaxPooling2D)    (None, 256, 28, 28)   0           convolution2d_7[0][0]            \n",
      "____________________________________________________________________________________________________\n",
      "zeropadding2d_8 (ZeroPadding2D)  (None, 256, 30, 30)   0           maxpooling2d_3[0][0]             \n",
      "____________________________________________________________________________________________________\n",
      "convolution2d_8 (Convolution2D)  (None, 512, 28, 28)   0           zeropadding2d_8[0][0]            \n",
      "____________________________________________________________________________________________________\n",
      "zeropadding2d_9 (ZeroPadding2D)  (None, 512, 30, 30)   0           convolution2d_8[0][0]            \n",
      "____________________________________________________________________________________________________\n",
      "convolution2d_9 (Convolution2D)  (None, 512, 28, 28)   0           zeropadding2d_9[0][0]            \n",
      "____________________________________________________________________________________________________\n",
      "zeropadding2d_10 (ZeroPadding2D) (None, 512, 30, 30)   0           convolution2d_9[0][0]            \n",
      "____________________________________________________________________________________________________\n",
      "convolution2d_10 (Convolution2D) (None, 512, 28, 28)   0           zeropadding2d_10[0][0]           \n",
      "____________________________________________________________________________________________________\n",
      "maxpooling2d_4 (MaxPooling2D)    (None, 512, 14, 14)   0           convolution2d_10[0][0]           \n",
      "____________________________________________________________________________________________________\n",
      "zeropadding2d_11 (ZeroPadding2D) (None, 512, 16, 16)   0           maxpooling2d_4[0][0]             \n",
      "____________________________________________________________________________________________________\n",
      "convolution2d_11 (Convolution2D) (None, 512, 14, 14)   0           zeropadding2d_11[0][0]           \n",
      "____________________________________________________________________________________________________\n",
      "zeropadding2d_12 (ZeroPadding2D) (None, 512, 16, 16)   0           convolution2d_11[0][0]           \n",
      "____________________________________________________________________________________________________\n",
      "convolution2d_12 (Convolution2D) (None, 512, 14, 14)   0           zeropadding2d_12[0][0]           \n",
      "____________________________________________________________________________________________________\n",
      "zeropadding2d_13 (ZeroPadding2D) (None, 512, 16, 16)   0           convolution2d_12[0][0]           \n",
      "____________________________________________________________________________________________________\n",
      "convolution2d_13 (Convolution2D) (None, 512, 14, 14)   0           zeropadding2d_13[0][0]           \n",
      "____________________________________________________________________________________________________\n",
      "maxpooling2d_5 (MaxPooling2D)    (None, 512, 7, 7)     0           convolution2d_13[0][0]           \n",
      "____________________________________________________________________________________________________\n",
      "flatten_1 (Flatten)              (None, 25088)         0           maxpooling2d_5[0][0]             \n",
      "____________________________________________________________________________________________________\n",
      "dense_1 (Dense)                  (None, 4096)          0           flatten_1[0][0]                  \n",
      "____________________________________________________________________________________________________\n",
      "dropout_1 (Dropout)              (None, 4096)          0           dense_1[0][0]                    \n",
      "____________________________________________________________________________________________________\n",
      "dense_2 (Dense)                  (None, 4096)          0           dropout_1[0][0]                  \n",
      "____________________________________________________________________________________________________\n",
      "dropout_2 (Dropout)              (None, 4096)          0           dense_2[0][0]                    \n",
      "____________________________________________________________________________________________________\n",
      "dense_4 (Dense)                  (None, 2)             8194        dropout_2[0][0]                  \n",
      "====================================================================================================\n",
      "Total params: 8194\n",
      "____________________________________________________________________________________________________\n"
     ]
    }
   ],
   "source": [
    "# Let's see the outcome model\n",
    "model.summary()"
   ]
  },
  {
   "cell_type": "markdown",
   "metadata": {},
   "source": [
    "Okie, we've got what we wanted."
   ]
  },
  {
   "cell_type": "markdown",
   "metadata": {},
   "source": [
    "# Training preparation\n",
    "\n",
    "We have two options to train the pretrained model:\n",
    "\n",
    "*** Option 1:*** Build a completely separate dense model.\n",
    "1. Generate predictions from pretrained model as input to our new (dense) model. \n",
    "2. Use this input to train our new model.\n",
    "\n",
    "*** Option 2: *** Build a new model with the part taken from vgg16 model and add our new dense model on top of it.\n",
    "\n",
    "1. Feed data to entire big model.\n",
    "2. Only back-prop (train) the layers we want to train.\n",
    "\n",
    "\n",
    "The option 1 has a big advantage on computational time because we essentially pre-calculate the input for the dense layers and train the dense layers is fast. But coding option 1 is a little bit more complicated. Option 2 takes a bit longer time to train but coding is pretty straightforward. As the result, I go for option 2.\n",
    "### Batches preparation"
   ]
  },
  {
   "cell_type": "code",
   "execution_count": 63,
   "metadata": {
    "collapsed": false
   },
   "outputs": [
    {
     "name": "stdout",
     "output_type": "stream",
     "text": [
      "/home/ubuntu/nbs/data\n"
     ]
    }
   ],
   "source": [
    "# Prepare path to data\n",
    "%cd $DATA_HOME_DIR\n",
    "\n",
    "#Set path to sample/ path if desired\n",
    "path = DATA_HOME_DIR + '/'\n",
    "test_path = DATA_HOME_DIR + 'Test/' #We use all the test data\n",
    "results_path=DATA_HOME_DIR + '/results/'\n",
    "train_path=path + '/train/'\n",
    "valid_path=path + '/valid/'"
   ]
  },
  {
   "cell_type": "code",
   "execution_count": 19,
   "metadata": {
    "collapsed": true
   },
   "outputs": [],
   "source": [
    "batch_size =50"
   ]
  },
  {
   "cell_type": "code",
   "execution_count": 20,
   "metadata": {
    "collapsed": true
   },
   "outputs": [],
   "source": [
    "# helper function to get batches\n",
    "def get_batches(dirname, gen=image.ImageDataGenerator(), shuffle=True, batch_size=4, class_mode='categorical',\n",
    "                target_size=(224,224)):\n",
    "    return gen.flow_from_directory(dirname, target_size=target_size,\n",
    "            class_mode=class_mode, shuffle=shuffle, batch_size=batch_size)"
   ]
  },
  {
   "cell_type": "code",
   "execution_count": 22,
   "metadata": {
    "collapsed": false
   },
   "outputs": [
    {
     "name": "stdout",
     "output_type": "stream",
     "text": [
      "Found 23000 images belonging to 2 classes.\n",
      "Found 2000 images belonging to 2 classes.\n"
     ]
    }
   ],
   "source": [
    "# Prepare batches for training and validation\n",
    "\n",
    "# Using helper\n",
    "gen = image.ImageDataGenerator()\n",
    "batches = get_batches(train_path, gen, batch_size=batch_size)\n",
    "val_batches = get_batches(valid_path, gen, batch_size=batch_size)\n",
    "\n",
    "\n",
    "\n",
    "#\n",
    "#batches = gen.flow_from_directory(train_path, shuffle = True, target_size=(224,224), batch_size = batch_size)\n",
    "#val_batches = gen.flow_from_directory(valid_path, shuffle = True, target_size=(224,224), batch_size = batch_size)"
   ]
  },
  {
   "cell_type": "markdown",
   "metadata": {},
   "source": [
    "### Complie and train model"
   ]
  },
  {
   "cell_type": "code",
   "execution_count": 23,
   "metadata": {
    "collapsed": false
   },
   "outputs": [],
   "source": [
    "# Compile, seting hyperparameters : optimization method, learning rate, loss, validation metric\n",
    "opt = RMSprop(lr =0.1)\n",
    "model.compile(optimizer = opt, loss = 'categorical_crossentropy', metrics = ['accuracy'])"
   ]
  },
  {
   "cell_type": "code",
   "execution_count": 24,
   "metadata": {
    "collapsed": true
   },
   "outputs": [],
   "source": [
    "# Train\n",
    "\n",
    "# Define a helper function to call multiple times\n",
    "def fit_model(model, batches, val_batches, nb_epoch =1):\n",
    "    model.fit_generator(batches, samples_per_epoch = batch_size, nb_epoch =nb_epoch,\n",
    "                       validation_data = val_batches,nb_val_samples = batch_size)\n"
   ]
  },
  {
   "cell_type": "code",
   "execution_count": 28,
   "metadata": {
    "collapsed": false
   },
   "outputs": [
    {
     "name": "stdout",
     "output_type": "stream",
     "text": [
      "Epoch 1/2\n",
      "50/50 [==============================] - 3s - loss: 0.0628 - acc: 0.9800 - val_loss: 0.6447 - val_acc: 0.9600\n",
      "Epoch 2/2\n",
      "50/50 [==============================] - 3s - loss: 0.7040 - acc: 0.9400 - val_loss: 0.6447 - val_acc: 0.9600\n"
     ]
    }
   ],
   "source": [
    "# Fit\n",
    "fit_model(model,batches,val_batches,nb_epoch=2)"
   ]
  },
  {
   "cell_type": "markdown",
   "metadata": {},
   "source": [
    "Let's save our trained model for evaluation"
   ]
  },
  {
   "cell_type": "code",
   "execution_count": 29,
   "metadata": {
    "collapsed": false
   },
   "outputs": [
    {
     "data": {
      "text/plain": [
       "u'/home/ubuntu/nbs/data'"
      ]
     },
     "execution_count": 29,
     "metadata": {},
     "output_type": "execute_result"
    }
   ],
   "source": [
    "%pwd()"
   ]
  },
  {
   "cell_type": "code",
   "execution_count": 30,
   "metadata": {
    "collapsed": false
   },
   "outputs": [
    {
     "name": "stdout",
     "output_type": "stream",
     "text": [
      "/home/ubuntu/nbs\n"
     ]
    }
   ],
   "source": [
    "# Back to project dir\n",
    "%cd $current_dir\n",
    "# Create a directory to save model\n",
    "%mkdir Models\n",
    "\n",
    "model_path = current_dir + '/Models/'"
   ]
  },
  {
   "cell_type": "code",
   "execution_count": 31,
   "metadata": {
    "collapsed": false
   },
   "outputs": [],
   "source": [
    "# Save model\n",
    "model.save_weights(model_path + 'model_tune_1.h5')"
   ]
  },
  {
   "cell_type": "markdown",
   "metadata": {},
   "source": [
    "## Evaludate model"
   ]
  },
  {
   "cell_type": "code",
   "execution_count": 32,
   "metadata": {
    "collapsed": false
   },
   "outputs": [],
   "source": [
    "# helper function to get data\n",
    "def get_data(path, target_size=(224,224)):\n",
    "    batches = get_batches(path, shuffle=False, batch_size=1, class_mode=None, target_size=target_size)\n",
    "    return np.concatenate([batches.next() for i in range(batches.nb_sample)])\n",
    "\n",
    "# Onehot encoder\n",
    "from sklearn.preprocessing import OneHotEncoder\n",
    "def onehot(x):\n",
    "    return np.array(OneHotEncoder().fit_transform(x.reshape(-1,1)).todense())"
   ]
  },
  {
   "cell_type": "code",
   "execution_count": 33,
   "metadata": {
    "collapsed": false
   },
   "outputs": [
    {
     "name": "stdout",
     "output_type": "stream",
     "text": [
      "Found 2000 images belonging to 2 classes.\n"
     ]
    }
   ],
   "source": [
    "# Get validation data\n",
    "val_data = get_data(valid_path)\n",
    "# Get validation labels\n",
    "val_classes =val_batches.classes\n",
    "val_labels = onehot(val_classes)"
   ]
  },
  {
   "cell_type": "code",
   "execution_count": 34,
   "metadata": {
    "collapsed": false
   },
   "outputs": [
    {
     "name": "stdout",
     "output_type": "stream",
     "text": [
      "2000/2000 [==============================] - 52s    \n"
     ]
    },
    {
     "data": {
      "text/plain": [
       "[0.52986436943803461, 0.96650000000000003]"
      ]
     },
     "execution_count": 34,
     "metadata": {},
     "output_type": "execute_result"
    }
   ],
   "source": [
    "# reporting loss and accuracy\n",
    "model.evaluate(val_data,val_labels)"
   ]
  },
  {
   "cell_type": "code",
   "execution_count": 35,
   "metadata": {
    "collapsed": false
   },
   "outputs": [
    {
     "name": "stdout",
     "output_type": "stream",
     "text": [
      "2000/2000 [==============================] - 52s    \n"
     ]
    }
   ],
   "source": [
    "# Prediction\n",
    "preds = model.predict_classes(val_data, batch_size =batch_size)"
   ]
  },
  {
   "cell_type": "markdown",
   "metadata": {},
   "source": [
    "Confusion matrix is a good tool to see performance of binary classification"
   ]
  },
  {
   "cell_type": "code",
   "execution_count": 37,
   "metadata": {
    "collapsed": false
   },
   "outputs": [],
   "source": [
    "from sklearn.metrics import confusion_matrix\n",
    "cfmatrix = confusion_matrix(val_classes, preds)"
   ]
  },
  {
   "cell_type": "code",
   "execution_count": 38,
   "metadata": {
    "collapsed": false
   },
   "outputs": [
    {
     "name": "stdout",
     "output_type": "stream",
     "text": [
      "[[1001   38]\n",
      " [  29  932]]\n"
     ]
    },
    {
     "data": {
      "image/png": "[encoded data removed]",
      "text/plain": [
       "<matplotlib.figure.Figure at 0x7fc580a6ff90>"
      ]
     },
     "metadata": {},
     "output_type": "display_data"
    }
   ],
   "source": [
    "# Helper function to plot confusion matrix\n",
    "import matplotlib.pyplot as plt\n",
    "%matplotlib inline\n",
    "import itertools\n",
    "def plot_confusion_matrix(cm, classes, normalize=False, title='Confusion matrix', cmap=plt.cm.Blues):\n",
    "    \"\"\"\n",
    "    This function prints and plots the confusion matrix.\n",
    "    Normalization can be applied by setting `normalize=True`.\n",
    "    (This function is copied from the scikit docs.)\n",
    "    \"\"\"\n",
    "    plt.figure()\n",
    "    plt.imshow(cm, interpolation='nearest', cmap=cmap)\n",
    "    plt.title(title)\n",
    "    plt.colorbar()\n",
    "    tick_marks = np.arange(len(classes))\n",
    "    plt.xticks(tick_marks, classes, rotation=45)\n",
    "    plt.yticks(tick_marks, classes)\n",
    "\n",
    "    if normalize:\n",
    "        cm = cm.astype('float') / cm.sum(axis=1)[:, np.newaxis]\n",
    "    print(cm)\n",
    "    thresh = cm.max() / 2.\n",
    "    for i, j in itertools.product(range(cm.shape[0]), range(cm.shape[1])):\n",
    "        plt.text(j, i, cm[i, j], horizontalalignment=\"center\", color=\"white\" if cm[i, j] > thresh else \"black\")\n",
    "\n",
    "    plt.tight_layout()\n",
    "    plt.ylabel('True label')\n",
    "    plt.xlabel('Predicted label')\n",
    "\n",
    "plot_confusion_matrix(cfmatrix, val_batches.class_indices)\n"
   ]
  },
  {
   "cell_type": "markdown",
   "metadata": {},
   "source": [
    "Not so good. We can, instead of training only the last layer, train all the dense layers. Why shouldn't we touch the convolutional layers? Because, in my opinion, convolutional layers store most of the information that the model learned from ImageNet database such as shapes, orientations, faces,etc. By touching these layers, we may very well detroy valuable features.\n",
    "\n",
    "# Train all the dense layers in Vgg16 model"
   ]
  },
  {
   "cell_type": "markdown",
   "metadata": {},
   "source": [
    "Our plan is to train all the dense layers. We can still train the convolutional layers if we want and we can even design our all model"
   ]
  },
  {
   "cell_type": "code",
   "execution_count": 39,
   "metadata": {
    "collapsed": false
   },
   "outputs": [],
   "source": [
    "layers = model.layers\n",
    "# Get the first layers\n",
    "first_layer = [index for index, layer in enumerate(layers) if type(layer) is Dense][0]\n",
    "# Set all the layers from the first dense layers to be trainable\n",
    "for layer in layers[first_layer:]: layer.trainable = True"
   ]
  },
  {
   "cell_type": "markdown",
   "metadata": {},
   "source": [
    "Okie, all the dense layers are now trainable. Note that we didn't modify the architechure of the model at all, we just allow it to train new layers so we do not need to recompile it."
   ]
  },
  {
   "cell_type": "code",
   "execution_count": 40,
   "metadata": {
    "collapsed": false
   },
   "outputs": [
    {
     "name": "stdout",
     "output_type": "stream",
     "text": [
      "____________________________________________________________________________________________________\n",
      "Layer (type)                     Output Shape          Param #     Connected to                     \n",
      "====================================================================================================\n",
      "lambda_1 (Lambda)                (None, 3, 224, 224)   0           lambda_input_1[0][0]             \n",
      "____________________________________________________________________________________________________\n",
      "zeropadding2d_1 (ZeroPadding2D)  (None, 3, 226, 226)   0           lambda_1[0][0]                   \n",
      "____________________________________________________________________________________________________\n",
      "convolution2d_1 (Convolution2D)  (None, 64, 224, 224)  0           zeropadding2d_1[0][0]            \n",
      "____________________________________________________________________________________________________\n",
      "zeropadding2d_2 (ZeroPadding2D)  (None, 64, 226, 226)  0           convolution2d_1[0][0]            \n",
      "____________________________________________________________________________________________________\n",
      "convolution2d_2 (Convolution2D)  (None, 64, 224, 224)  0           zeropadding2d_2[0][0]            \n",
      "____________________________________________________________________________________________________\n",
      "maxpooling2d_1 (MaxPooling2D)    (None, 64, 112, 112)  0           convolution2d_2[0][0]            \n",
      "____________________________________________________________________________________________________\n",
      "zeropadding2d_3 (ZeroPadding2D)  (None, 64, 114, 114)  0           maxpooling2d_1[0][0]             \n",
      "____________________________________________________________________________________________________\n",
      "convolution2d_3 (Convolution2D)  (None, 128, 112, 112) 0           zeropadding2d_3[0][0]            \n",
      "____________________________________________________________________________________________________\n",
      "zeropadding2d_4 (ZeroPadding2D)  (None, 128, 114, 114) 0           convolution2d_3[0][0]            \n",
      "____________________________________________________________________________________________________\n",
      "convolution2d_4 (Convolution2D)  (None, 128, 112, 112) 0           zeropadding2d_4[0][0]            \n",
      "____________________________________________________________________________________________________\n",
      "maxpooling2d_2 (MaxPooling2D)    (None, 128, 56, 56)   0           convolution2d_4[0][0]            \n",
      "____________________________________________________________________________________________________\n",
      "zeropadding2d_5 (ZeroPadding2D)  (None, 128, 58, 58)   0           maxpooling2d_2[0][0]             \n",
      "____________________________________________________________________________________________________\n",
      "convolution2d_5 (Convolution2D)  (None, 256, 56, 56)   0           zeropadding2d_5[0][0]            \n",
      "____________________________________________________________________________________________________\n",
      "zeropadding2d_6 (ZeroPadding2D)  (None, 256, 58, 58)   0           convolution2d_5[0][0]            \n",
      "____________________________________________________________________________________________________\n",
      "convolution2d_6 (Convolution2D)  (None, 256, 56, 56)   0           zeropadding2d_6[0][0]            \n",
      "____________________________________________________________________________________________________\n",
      "zeropadding2d_7 (ZeroPadding2D)  (None, 256, 58, 58)   0           convolution2d_6[0][0]            \n",
      "____________________________________________________________________________________________________\n",
      "convolution2d_7 (Convolution2D)  (None, 256, 56, 56)   0           zeropadding2d_7[0][0]            \n",
      "____________________________________________________________________________________________________\n",
      "maxpooling2d_3 (MaxPooling2D)    (None, 256, 28, 28)   0           convolution2d_7[0][0]            \n",
      "____________________________________________________________________________________________________\n",
      "zeropadding2d_8 (ZeroPadding2D)  (None, 256, 30, 30)   0           maxpooling2d_3[0][0]             \n",
      "____________________________________________________________________________________________________\n",
      "convolution2d_8 (Convolution2D)  (None, 512, 28, 28)   0           zeropadding2d_8[0][0]            \n",
      "____________________________________________________________________________________________________\n",
      "zeropadding2d_9 (ZeroPadding2D)  (None, 512, 30, 30)   0           convolution2d_8[0][0]            \n",
      "____________________________________________________________________________________________________\n",
      "convolution2d_9 (Convolution2D)  (None, 512, 28, 28)   0           zeropadding2d_9[0][0]            \n",
      "____________________________________________________________________________________________________\n",
      "zeropadding2d_10 (ZeroPadding2D) (None, 512, 30, 30)   0           convolution2d_9[0][0]            \n",
      "____________________________________________________________________________________________________\n",
      "convolution2d_10 (Convolution2D) (None, 512, 28, 28)   0           zeropadding2d_10[0][0]           \n",
      "____________________________________________________________________________________________________\n",
      "maxpooling2d_4 (MaxPooling2D)    (None, 512, 14, 14)   0           convolution2d_10[0][0]           \n",
      "____________________________________________________________________________________________________\n",
      "zeropadding2d_11 (ZeroPadding2D) (None, 512, 16, 16)   0           maxpooling2d_4[0][0]             \n",
      "____________________________________________________________________________________________________\n",
      "convolution2d_11 (Convolution2D) (None, 512, 14, 14)   0           zeropadding2d_11[0][0]           \n",
      "____________________________________________________________________________________________________\n",
      "zeropadding2d_12 (ZeroPadding2D) (None, 512, 16, 16)   0           convolution2d_11[0][0]           \n",
      "____________________________________________________________________________________________________\n",
      "convolution2d_12 (Convolution2D) (None, 512, 14, 14)   0           zeropadding2d_12[0][0]           \n",
      "____________________________________________________________________________________________________\n",
      "zeropadding2d_13 (ZeroPadding2D) (None, 512, 16, 16)   0           convolution2d_12[0][0]           \n",
      "____________________________________________________________________________________________________\n",
      "convolution2d_13 (Convolution2D) (None, 512, 14, 14)   0           zeropadding2d_13[0][0]           \n",
      "____________________________________________________________________________________________________\n",
      "maxpooling2d_5 (MaxPooling2D)    (None, 512, 7, 7)     0           convolution2d_13[0][0]           \n",
      "____________________________________________________________________________________________________\n",
      "flatten_1 (Flatten)              (None, 25088)         0           maxpooling2d_5[0][0]             \n",
      "____________________________________________________________________________________________________\n",
      "dense_1 (Dense)                  (None, 4096)          102764544   flatten_1[0][0]                  \n",
      "____________________________________________________________________________________________________\n",
      "dropout_1 (Dropout)              (None, 4096)          0           dense_1[0][0]                    \n",
      "____________________________________________________________________________________________________\n",
      "dense_2 (Dense)                  (None, 4096)          16781312    dropout_1[0][0]                  \n",
      "____________________________________________________________________________________________________\n",
      "dropout_2 (Dropout)              (None, 4096)          0           dense_2[0][0]                    \n",
      "____________________________________________________________________________________________________\n",
      "dense_4 (Dense)                  (None, 2)             8194        dropout_2[0][0]                  \n",
      "====================================================================================================\n",
      "Total params: 119554050\n",
      "____________________________________________________________________________________________________\n"
     ]
    }
   ],
   "source": [
    "model.summary()"
   ]
  },
  {
   "cell_type": "markdown",
   "metadata": {},
   "source": [
    "we now have nearly 15 millions parameters, training will take much longer. "
   ]
  },
  {
   "cell_type": "code",
   "execution_count": 41,
   "metadata": {
    "collapsed": false
   },
   "outputs": [
    {
     "name": "stdout",
     "output_type": "stream",
     "text": [
      "Epoch 1/10\n",
      "50/50 [==============================] - 3s - loss: 0.8181 - acc: 0.9400 - val_loss: 0.6447 - val_acc: 0.9600\n",
      "Epoch 2/10\n",
      "50/50 [==============================] - 3s - loss: 0.6447 - acc: 0.9600 - val_loss: 0.6064 - val_acc: 0.9600\n",
      "Epoch 3/10\n",
      "50/50 [==============================] - 3s - loss: 0.6447 - acc: 0.9600 - val_loss: 0.9671 - val_acc: 0.9400\n",
      "Epoch 4/10\n",
      "50/50 [==============================] - 3s - loss: 0.3224 - acc: 0.9800 - val_loss: 0.3224 - val_acc: 0.9800\n",
      "Epoch 5/10\n",
      "50/50 [==============================] - 3s - loss: 0.9671 - acc: 0.9400 - val_loss: 0.6447 - val_acc: 0.9600\n",
      "Epoch 6/10\n",
      "50/50 [==============================] - 3s - loss: 0.3224 - acc: 0.9800 - val_loss: 0.3224 - val_acc: 0.9800\n",
      "Epoch 7/10\n",
      "50/50 [==============================] - 3s - loss: 0.2133 - acc: 0.9800 - val_loss: 0.0787 - val_acc: 0.9800\n",
      "Epoch 8/10\n",
      "50/50 [==============================] - 3s - loss: 0.3224 - acc: 0.9800 - val_loss: 1.1921e-07 - val_acc: 1.0000\n",
      "Epoch 9/10\n",
      "50/50 [==============================] - 3s - loss: 0.6447 - acc: 0.9600 - val_loss: 0.4861 - val_acc: 0.9600\n",
      "Epoch 10/10\n",
      "50/50 [==============================] - 3s - loss: 0.9671 - acc: 0.9400 - val_loss: 0.6447 - val_acc: 0.9600\n"
     ]
    }
   ],
   "source": [
    "K.set_value(opt.lr,0.01)\n",
    "fit_model(model, batches,val_batches, 10)"
   ]
  },
  {
   "cell_type": "markdown",
   "metadata": {},
   "source": [
    "## Evaluation\n"
   ]
  },
  {
   "cell_type": "code",
   "execution_count": 42,
   "metadata": {
    "collapsed": false
   },
   "outputs": [
    {
     "name": "stdout",
     "output_type": "stream",
     "text": [
      "2000/2000 [==============================] - 53s    \n",
      "2000/2000 [==============================] - 53s    \n",
      "[[1007   32]\n",
      " [  34  927]]\n"
     ]
    },
    {
     "data": {
      "image/png": "[encoded data removed]",
      "text/plain": [
       "<matplotlib.figure.Figure at 0x7fc580b34ed0>"
      ]
     },
     "metadata": {},
     "output_type": "display_data"
    }
   ],
   "source": [
    "# reporting loss and accuracy\n",
    "model.evaluate(val_data,val_labels)\n",
    "# Prediction\n",
    "preds = model.predict_classes(val_data, batch_size =batch_size)\n",
    "\n",
    "# Confusion matrix\n",
    "cfmatrix = confusion_matrix(val_classes, preds)\n",
    "plot_confusion_matrix(cfmatrix, val_batches.class_indices)"
   ]
  },
  {
   "cell_type": "markdown",
   "metadata": {},
   "source": [
    "## Generate result for test set"
   ]
  },
  {
   "cell_type": "code",
   "execution_count": 64,
   "metadata": {
    "collapsed": false
   },
   "outputs": [
    {
     "data": {
      "text/plain": [
       "'/home/ubuntu/nbs/data/Test/'"
      ]
     },
     "execution_count": 64,
     "metadata": {},
     "output_type": "execute_result"
    }
   ],
   "source": [
    "test_path"
   ]
  },
  {
   "cell_type": "code",
   "execution_count": 69,
   "metadata": {
    "collapsed": false
   },
   "outputs": [
    {
     "name": "stdout",
     "output_type": "stream",
     "text": [
      "Found 12500 images belonging to 1 classes.\n"
     ]
    }
   ],
   "source": [
    "# Helper function to test the test data\n",
    "\n",
    "test_batches = get_batches(test_path, shuffle=False, batch_size=batch_size, class_mode=None)\n",
    "preds = model.predict_generator(test_batches, test_batches.nb_sample)"
   ]
  },
  {
   "cell_type": "code",
   "execution_count": 67,
   "metadata": {
    "collapsed": false
   },
   "outputs": [
    {
     "data": {
      "text/plain": [
       "['test/9292.jpg',\n",
       " 'test/12026.jpg',\n",
       " 'test/9688.jpg',\n",
       " 'test/4392.jpg',\n",
       " 'test/779.jpg']"
      ]
     },
     "execution_count": 67,
     "metadata": {},
     "output_type": "execute_result"
    }
   ],
   "source": [
    "filenames = test_batches.filenames\n",
    "filenames[:5]"
   ]
  },
  {
   "cell_type": "markdown",
   "metadata": {},
   "source": [
    "### Save predictions"
   ]
  },
  {
   "cell_type": "code",
   "execution_count": 71,
   "metadata": {
    "collapsed": false
   },
   "outputs": [],
   "source": [
    "#Save our test results arrays so we can use them again later\n",
    "import bcolz\n",
    "def save_array(fname, arr):\n",
    "    c=bcolz.carray(arr, rootdir=fname, mode='w')\n",
    "    c.flush()\n",
    "save_array(results_path + 'test_preds.dat', preds)\n",
    "save_array(results_path + 'filenames.dat', filenames)"
   ]
  },
  {
   "cell_type": "markdown",
   "metadata": {},
   "source": [
    "### Load predictions"
   ]
  },
  {
   "cell_type": "code",
   "execution_count": 73,
   "metadata": {
    "collapsed": false
   },
   "outputs": [],
   "source": [
    "#Load our test predictions from file\n",
    "def load_array(fname):\n",
    "    return bcolz.open(fname)[:]\n",
    "preds = load_array(results_path + 'test_preds.dat')\n",
    "filenames = load_array(results_path + 'filenames.dat')"
   ]
  },
  {
   "cell_type": "code",
   "execution_count": 75,
   "metadata": {
    "collapsed": true
   },
   "outputs": [],
   "source": [
    "filenames = test_batches.filenames"
   ]
  },
  {
   "cell_type": "code",
   "execution_count": 77,
   "metadata": {
    "collapsed": false
   },
   "outputs": [
    {
     "data": {
      "text/plain": [
       "['test/9292.jpg',\n",
       " 'test/12026.jpg',\n",
       " 'test/9688.jpg',\n",
       " 'test/4392.jpg',\n",
       " 'test/779.jpg',\n",
       " 'test/2768.jpg',\n",
       " 'test/2399.jpg',\n",
       " 'test/12225.jpg',\n",
       " 'test/10947.jpg',\n",
       " 'test/1780.jpg',\n",
       " 'test/11631.jpg',\n",
       " 'test/8478.jpg',\n",
       " 'test/7940.jpg',\n",
       " 'test/5102.jpg',\n",
       " 'test/1704.jpg',\n",
       " 'test/5967.jpg',\n",
       " 'test/1261.jpg',\n",
       " 'test/11882.jpg',\n",
       " 'test/3237.jpg',\n",
       " 'test/10222.jpg',\n",
       " 'test/10854.jpg',\n",
       " 'test/6810.jpg',\n",
       " 'test/8615.jpg',\n",
       " 'test/6014.jpg',\n",
       " 'test/7161.jpg',\n",
       " 'test/7934.jpg',\n",
       " 'test/6549.jpg',\n",
       " 'test/2715.jpg',\n",
       " 'test/6139.jpg',\n",
       " 'test/6873.jpg',\n",
       " 'test/4470.jpg',\n",
       " 'test/9417.jpg',\n",
       " 'test/8911.jpg',\n",
       " 'test/878.jpg',\n",
       " 'test/10159.jpg',\n",
       " 'test/8553.jpg',\n",
       " 'test/7897.jpg',\n",
       " 'test/2271.jpg',\n",
       " 'test/6094.jpg',\n",
       " 'test/10906.jpg',\n",
       " 'test/6945.jpg',\n",
       " 'test/9578.jpg',\n",
       " 'test/1839.jpg',\n",
       " 'test/11121.jpg',\n",
       " 'test/6599.jpg',\n",
       " 'test/2047.jpg',\n",
       " 'test/6138.jpg',\n",
       " 'test/4267.jpg',\n",
       " 'test/552.jpg',\n",
       " 'test/400.jpg',\n",
       " 'test/6248.jpg',\n",
       " 'test/5652.jpg',\n",
       " 'test/9810.jpg',\n",
       " 'test/8888.jpg',\n",
       " 'test/10198.jpg',\n",
       " 'test/11471.jpg',\n",
       " 'test/10110.jpg',\n",
       " 'test/4105.jpg',\n",
       " 'test/8611.jpg',\n",
       " 'test/10511.jpg',\n",
       " 'test/5383.jpg',\n",
       " 'test/2143.jpg',\n",
       " 'test/7852.jpg',\n",
       " 'test/3770.jpg',\n",
       " 'test/4876.jpg',\n",
       " 'test/2212.jpg',\n",
       " 'test/2012.jpg',\n",
       " 'test/3983.jpg',\n",
       " 'test/2461.jpg',\n",
       " 'test/10397.jpg',\n",
       " 'test/5629.jpg',\n",
       " 'test/4943.jpg',\n",
       " 'test/10266.jpg',\n",
       " 'test/9386.jpg',\n",
       " 'test/4330.jpg',\n",
       " 'test/9236.jpg',\n",
       " 'test/7967.jpg',\n",
       " 'test/11760.jpg',\n",
       " 'test/5375.jpg',\n",
       " 'test/9806.jpg',\n",
       " 'test/5957.jpg',\n",
       " 'test/8877.jpg',\n",
       " 'test/9518.jpg',\n",
       " 'test/11161.jpg',\n",
       " 'test/3400.jpg',\n",
       " 'test/8492.jpg',\n",
       " 'test/6469.jpg',\n",
       " 'test/7942.jpg',\n",
       " 'test/5692.jpg',\n",
       " 'test/11641.jpg',\n",
       " 'test/2891.jpg',\n",
       " 'test/9986.jpg',\n",
       " 'test/5870.jpg',\n",
       " 'test/6521.jpg',\n",
       " 'test/6072.jpg',\n",
       " 'test/7566.jpg',\n",
       " 'test/9128.jpg',\n",
       " 'test/6760.jpg',\n",
       " 'test/4223.jpg',\n",
       " 'test/11519.jpg',\n",
       " 'test/11417.jpg',\n",
       " 'test/10001.jpg',\n",
       " 'test/11081.jpg',\n",
       " 'test/909.jpg',\n",
       " 'test/6856.jpg',\n",
       " 'test/3201.jpg',\n",
       " 'test/3025.jpg',\n",
       " 'test/7720.jpg',\n",
       " 'test/7112.jpg',\n",
       " 'test/7206.jpg',\n",
       " 'test/4144.jpg',\n",
       " 'test/2265.jpg',\n",
       " 'test/1757.jpg',\n",
       " 'test/11858.jpg',\n",
       " 'test/12125.jpg',\n",
       " 'test/9731.jpg',\n",
       " 'test/4536.jpg',\n",
       " 'test/11140.jpg',\n",
       " 'test/12337.jpg',\n",
       " 'test/3623.jpg',\n",
       " 'test/4246.jpg',\n",
       " 'test/9493.jpg',\n",
       " 'test/3980.jpg',\n",
       " 'test/1036.jpg',\n",
       " 'test/820.jpg',\n",
       " 'test/1407.jpg',\n",
       " 'test/941.jpg',\n",
       " 'test/2534.jpg',\n",
       " 'test/8486.jpg',\n",
       " 'test/12261.jpg',\n",
       " 'test/10847.jpg',\n",
       " 'test/5245.jpg',\n",
       " 'test/11264.jpg',\n",
       " 'test/2885.jpg',\n",
       " 'test/3841.jpg',\n",
       " 'test/5620.jpg',\n",
       " 'test/430.jpg',\n",
       " 'test/12182.jpg',\n",
       " 'test/10628.jpg',\n",
       " 'test/9028.jpg',\n",
       " 'test/5372.jpg',\n",
       " 'test/9447.jpg',\n",
       " 'test/9736.jpg',\n",
       " 'test/7423.jpg',\n",
       " 'test/3083.jpg',\n",
       " 'test/8643.jpg',\n",
       " 'test/833.jpg',\n",
       " 'test/6922.jpg',\n",
       " 'test/4898.jpg',\n",
       " 'test/3736.jpg',\n",
       " 'test/9605.jpg',\n",
       " 'test/905.jpg',\n",
       " 'test/10264.jpg',\n",
       " 'test/2312.jpg',\n",
       " 'test/6015.jpg',\n",
       " 'test/8921.jpg',\n",
       " 'test/10621.jpg',\n",
       " 'test/4039.jpg',\n",
       " 'test/4558.jpg',\n",
       " 'test/11410.jpg',\n",
       " 'test/4665.jpg',\n",
       " 'test/3635.jpg',\n",
       " 'test/303.jpg',\n",
       " 'test/126.jpg',\n",
       " 'test/1180.jpg',\n",
       " 'test/9359.jpg',\n",
       " 'test/7217.jpg',\n",
       " 'test/12380.jpg',\n",
       " 'test/1318.jpg',\n",
       " 'test/11415.jpg',\n",
       " 'test/11046.jpg',\n",
       " 'test/2213.jpg',\n",
       " 'test/1814.jpg',\n",
       " 'test/4845.jpg',\n",
       " 'test/10666.jpg',\n",
       " 'test/3910.jpg',\n",
       " 'test/10771.jpg',\n",
       " 'test/6311.jpg',\n",
       " 'test/5983.jpg',\n",
       " 'test/8228.jpg',\n",
       " 'test/4271.jpg',\n",
       " 'test/10449.jpg',\n",
       " 'test/3038.jpg',\n",
       " 'test/4173.jpg',\n",
       " 'test/3056.jpg',\n",
       " 'test/3105.jpg',\n",
       " 'test/12196.jpg',\n",
       " 'test/4100.jpg',\n",
       " 'test/8264.jpg',\n",
       " 'test/9235.jpg',\n",
       " 'test/5076.jpg',\n",
       " 'test/7857.jpg',\n",
       " 'test/9414.jpg',\n",
       " 'test/7510.jpg',\n",
       " 'test/7535.jpg',\n",
       " 'test/7047.jpg',\n",
       " 'test/7657.jpg',\n",
       " 'test/3531.jpg',\n",
       " 'test/6776.jpg',\n",
       " 'test/9415.jpg',\n",
       " 'test/2348.jpg',\n",
       " 'test/9771.jpg',\n",
       " 'test/7151.jpg',\n",
       " 'test/5519.jpg',\n",
       " 'test/4613.jpg',\n",
       " 'test/5161.jpg',\n",
       " 'test/5759.jpg',\n",
       " 'test/12107.jpg',\n",
       " 'test/4636.jpg',\n",
       " 'test/5997.jpg',\n",
       " 'test/10489.jpg',\n",
       " 'test/7065.jpg',\n",
       " 'test/9384.jpg',\n",
       " 'test/10269.jpg',\n",
       " 'test/4175.jpg',\n",
       " 'test/487.jpg',\n",
       " 'test/11965.jpg',\n",
       " 'test/12060.jpg',\n",
       " 'test/7902.jpg',\n",
       " 'test/4628.jpg',\n",
       " 'test/1497.jpg',\n",
       " 'test/5275.jpg',\n",
       " 'test/7726.jpg',\n",
       " 'test/9169.jpg',\n",
       " 'test/7030.jpg',\n",
       " 'test/9813.jpg',\n",
       " 'test/10812.jpg',\n",
       " 'test/10631.jpg',\n",
       " 'test/12350.jpg',\n",
       " 'test/9544.jpg',\n",
       " 'test/8383.jpg',\n",
       " 'test/2436.jpg',\n",
       " 'test/8117.jpg',\n",
       " 'test/11664.jpg',\n",
       " 'test/10176.jpg',\n",
       " 'test/9577.jpg',\n",
       " 'test/5633.jpg',\n",
       " 'test/10185.jpg',\n",
       " 'test/8822.jpg',\n",
       " 'test/9602.jpg',\n",
       " 'test/9587.jpg',\n",
       " 'test/11930.jpg',\n",
       " 'test/12016.jpg',\n",
       " 'test/2999.jpg',\n",
       " 'test/3323.jpg',\n",
       " 'test/7501.jpg',\n",
       " 'test/3379.jpg',\n",
       " 'test/8947.jpg',\n",
       " 'test/5290.jpg',\n",
       " 'test/3508.jpg',\n",
       " 'test/6849.jpg',\n",
       " 'test/4823.jpg',\n",
       " 'test/1447.jpg',\n",
       " 'test/3844.jpg',\n",
       " 'test/5056.jpg',\n",
       " 'test/11883.jpg',\n",
       " 'test/3636.jpg',\n",
       " 'test/6131.jpg',\n",
       " 'test/10389.jpg',\n",
       " 'test/12030.jpg',\n",
       " 'test/6223.jpg',\n",
       " 'test/9877.jpg',\n",
       " 'test/10319.jpg',\n",
       " 'test/5376.jpg',\n",
       " 'test/4375.jpg',\n",
       " 'test/6805.jpg',\n",
       " 'test/8557.jpg',\n",
       " 'test/10202.jpg',\n",
       " 'test/8787.jpg',\n",
       " 'test/5705.jpg',\n",
       " 'test/7734.jpg',\n",
       " 'test/7981.jpg',\n",
       " 'test/8756.jpg',\n",
       " 'test/11612.jpg',\n",
       " 'test/3506.jpg',\n",
       " 'test/1926.jpg',\n",
       " 'test/9970.jpg',\n",
       " 'test/1957.jpg',\n",
       " 'test/9954.jpg',\n",
       " 'test/9631.jpg',\n",
       " 'test/18.jpg',\n",
       " 'test/8957.jpg',\n",
       " 'test/12327.jpg',\n",
       " 'test/4679.jpg',\n",
       " 'test/8622.jpg',\n",
       " 'test/718.jpg',\n",
       " 'test/4108.jpg',\n",
       " 'test/4205.jpg',\n",
       " 'test/9613.jpg',\n",
       " 'test/8061.jpg',\n",
       " 'test/3624.jpg',\n",
       " 'test/5989.jpg',\n",
       " 'test/10466.jpg',\n",
       " 'test/10184.jpg',\n",
       " 'test/7470.jpg',\n",
       " 'test/11838.jpg',\n",
       " 'test/9307.jpg',\n",
       " 'test/9823.jpg',\n",
       " 'test/777.jpg',\n",
       " 'test/11012.jpg',\n",
       " 'test/5219.jpg',\n",
       " 'test/8885.jpg',\n",
       " 'test/8898.jpg',\n",
       " 'test/3051.jpg',\n",
       " 'test/2341.jpg',\n",
       " 'test/10135.jpg',\n",
       " 'test/1120.jpg',\n",
       " 'test/6255.jpg',\n",
       " 'test/12178.jpg',\n",
       " 'test/6590.jpg',\n",
       " 'test/4816.jpg',\n",
       " 'test/6426.jpg',\n",
       " 'test/5070.jpg',\n",
       " 'test/3778.jpg',\n",
       " 'test/753.jpg',\n",
       " 'test/248.jpg',\n",
       " 'test/4794.jpg',\n",
       " 'test/3459.jpg',\n",
       " 'test/768.jpg',\n",
       " 'test/5624.jpg',\n",
       " 'test/11624.jpg',\n",
       " 'test/6969.jpg',\n",
       " 'test/8238.jpg',\n",
       " 'test/8050.jpg',\n",
       " 'test/502.jpg',\n",
       " 'test/7017.jpg',\n",
       " 'test/11870.jpg',\n",
       " 'test/1313.jpg',\n",
       " 'test/6872.jpg',\n",
       " 'test/383.jpg',\n",
       " 'test/12181.jpg',\n",
       " 'test/8740.jpg',\n",
       " 'test/2311.jpg',\n",
       " 'test/547.jpg',\n",
       " 'test/3428.jpg',\n",
       " 'test/796.jpg',\n",
       " 'test/5052.jpg',\n",
       " 'test/8375.jpg',\n",
       " 'test/10955.jpg',\n",
       " 'test/4676.jpg',\n",
       " 'test/7873.jpg',\n",
       " 'test/7514.jpg',\n",
       " 'test/12214.jpg',\n",
       " 'test/11778.jpg',\n",
       " 'test/4887.jpg',\n",
       " 'test/10305.jpg',\n",
       " 'test/5864.jpg',\n",
       " 'test/1317.jpg',\n",
       " 'test/10607.jpg',\n",
       " 'test/7044.jpg',\n",
       " 'test/880.jpg',\n",
       " 'test/8057.jpg',\n",
       " 'test/8830.jpg',\n",
       " 'test/3527.jpg',\n",
       " 'test/9742.jpg',\n",
       " 'test/8713.jpg',\n",
       " 'test/9824.jpg',\n",
       " 'test/5067.jpg',\n",
       " 'test/7450.jpg',\n",
       " 'test/8851.jpg',\n",
       " 'test/10189.jpg',\n",
       " 'test/478.jpg',\n",
       " 'test/5271.jpg',\n",
       " 'test/11416.jpg',\n",
       " 'test/11541.jpg',\n",
       " 'test/11789.jpg',\n",
       " 'test/626.jpg',\n",
       " 'test/8537.jpg',\n",
       " 'test/7767.jpg',\n",
       " 'test/11173.jpg',\n",
       " 'test/7544.jpg',\n",
       " 'test/246.jpg',\n",
       " 'test/1924.jpg',\n",
       " 'test/922.jpg',\n",
       " 'test/6728.jpg',\n",
       " 'test/9864.jpg',\n",
       " 'test/1576.jpg',\n",
       " 'test/9851.jpg',\n",
       " 'test/5803.jpg',\n",
       " 'test/10224.jpg',\n",
       " 'test/635.jpg',\n",
       " 'test/2910.jpg',\n",
       " 'test/11618.jpg',\n",
       " 'test/6737.jpg',\n",
       " 'test/7909.jpg',\n",
       " 'test/11241.jpg',\n",
       " 'test/3312.jpg',\n",
       " 'test/848.jpg',\n",
       " 'test/2285.jpg',\n",
       " 'test/11221.jpg',\n",
       " 'test/10973.jpg',\n",
       " 'test/12498.jpg',\n",
       " 'test/7181.jpg',\n",
       " 'test/11510.jpg',\n",
       " 'test/11179.jpg',\n",
       " 'test/11338.jpg',\n",
       " 'test/9465.jpg',\n",
       " 'test/3333.jpg',\n",
       " 'test/2842.jpg',\n",
       " 'test/3915.jpg',\n",
       " 'test/11128.jpg',\n",
       " 'test/8213.jpg',\n",
       " 'test/3835.jpg',\n",
       " 'test/8657.jpg',\n",
       " 'test/9599.jpg',\n",
       " 'test/6812.jpg',\n",
       " 'test/3676.jpg',\n",
       " 'test/1941.jpg',\n",
       " 'test/3253.jpg',\n",
       " 'test/3962.jpg',\n",
       " 'test/9866.jpg',\n",
       " 'test/6952.jpg',\n",
       " 'test/10480.jpg',\n",
       " 'test/11072.jpg',\n",
       " 'test/9769.jpg',\n",
       " 'test/6869.jpg',\n",
       " 'test/9897.jpg',\n",
       " 'test/5506.jpg',\n",
       " 'test/1290.jpg',\n",
       " 'test/9516.jpg',\n",
       " 'test/5562.jpg',\n",
       " 'test/12269.jpg',\n",
       " 'test/2667.jpg',\n",
       " 'test/9998.jpg',\n",
       " 'test/2002.jpg',\n",
       " 'test/3986.jpg',\n",
       " 'test/355.jpg',\n",
       " 'test/6353.jpg',\n",
       " 'test/12258.jpg',\n",
       " 'test/6124.jpg',\n",
       " 'test/8569.jpg',\n",
       " 'test/5141.jpg',\n",
       " 'test/6337.jpg',\n",
       " 'test/9314.jpg',\n",
       " 'test/2177.jpg',\n",
       " 'test/222.jpg',\n",
       " 'test/12003.jpg',\n",
       " 'test/2480.jpg',\n",
       " 'test/4209.jpg',\n",
       " 'test/4141.jpg',\n",
       " 'test/3693.jpg',\n",
       " 'test/10905.jpg',\n",
       " 'test/6624.jpg',\n",
       " 'test/3306.jpg',\n",
       " 'test/5369.jpg',\n",
       " 'test/7960.jpg',\n",
       " 'test/6430.jpg',\n",
       " 'test/7531.jpg',\n",
       " 'test/433.jpg',\n",
       " 'test/4744.jpg',\n",
       " 'test/7036.jpg',\n",
       " 'test/10963.jpg',\n",
       " 'test/354.jpg',\n",
       " 'test/154.jpg',\n",
       " 'test/6436.jpg',\n",
       " 'test/5942.jpg',\n",
       " 'test/1760.jpg',\n",
       " 'test/8456.jpg',\n",
       " 'test/5770.jpg',\n",
       " 'test/12500.jpg',\n",
       " 'test/8410.jpg',\n",
       " 'test/3656.jpg',\n",
       " 'test/7145.jpg',\n",
       " 'test/6344.jpg',\n",
       " 'test/10043.jpg',\n",
       " 'test/8248.jpg',\n",
       " 'test/32.jpg',\n",
       " 'test/7456.jpg',\n",
       " 'test/12299.jpg',\n",
       " 'test/821.jpg',\n",
       " 'test/7932.jpg',\n",
       " 'test/3320.jpg',\n",
       " 'test/12335.jpg',\n",
       " 'test/7697.jpg',\n",
       " 'test/2918.jpg',\n",
       " 'test/1114.jpg',\n",
       " 'test/3351.jpg',\n",
       " 'test/10299.jpg',\n",
       " 'test/3821.jpg',\n",
       " 'test/6636.jpg',\n",
       " 'test/8422.jpg',\n",
       " 'test/8251.jpg',\n",
       " 'test/5693.jpg',\n",
       " 'test/2299.jpg',\n",
       " 'test/3690.jpg',\n",
       " 'test/10338.jpg',\n",
       " 'test/610.jpg',\n",
       " 'test/6876.jpg',\n",
       " 'test/2880.jpg',\n",
       " 'test/969.jpg',\n",
       " 'test/9354.jpg',\n",
       " 'test/5063.jpg',\n",
       " 'test/9027.jpg',\n",
       " 'test/7408.jpg',\n",
       " 'test/3731.jpg',\n",
       " 'test/8996.jpg',\n",
       " 'test/9966.jpg',\n",
       " 'test/10213.jpg',\n",
       " 'test/4005.jpg',\n",
       " 'test/8225.jpg',\n",
       " 'test/4024.jpg',\n",
       " 'test/2426.jpg',\n",
       " 'test/9915.jpg',\n",
       " 'test/12476.jpg',\n",
       " 'test/490.jpg',\n",
       " 'test/8869.jpg',\n",
       " 'test/12011.jpg',\n",
       " 'test/2777.jpg',\n",
       " 'test/10663.jpg',\n",
       " 'test/8915.jpg',\n",
       " 'test/12169.jpg',\n",
       " 'test/10874.jpg',\n",
       " 'test/4321.jpg',\n",
       " 'test/2592.jpg',\n",
       " 'test/210.jpg',\n",
       " 'test/1296.jpg',\n",
       " 'test/6543.jpg',\n",
       " 'test/7534.jpg',\n",
       " 'test/10010.jpg',\n",
       " 'test/10676.jpg',\n",
       " 'test/3793.jpg',\n",
       " 'test/9538.jpg',\n",
       " 'test/10273.jpg',\n",
       " 'test/7851.jpg',\n",
       " 'test/8559.jpg',\n",
       " 'test/1974.jpg',\n",
       " 'test/10133.jpg',\n",
       " 'test/10374.jpg',\n",
       " 'test/1330.jpg',\n",
       " 'test/5188.jpg',\n",
       " 'test/12399.jpg',\n",
       " 'test/920.jpg',\n",
       " 'test/387.jpg',\n",
       " 'test/9886.jpg',\n",
       " 'test/11015.jpg',\n",
       " 'test/7376.jpg',\n",
       " 'test/5710.jpg',\n",
       " 'test/10044.jpg',\n",
       " 'test/5841.jpg',\n",
       " 'test/6049.jpg',\n",
       " 'test/9152.jpg',\n",
       " 'test/8190.jpg',\n",
       " 'test/4625.jpg',\n",
       " 'test/1093.jpg',\n",
       " 'test/5329.jpg',\n",
       " 'test/10108.jpg',\n",
       " 'test/11765.jpg',\n",
       " 'test/10113.jpg',\n",
       " 'test/7638.jpg',\n",
       " 'test/9763.jpg',\n",
       " 'test/4084.jpg',\n",
       " 'test/11538.jpg',\n",
       " 'test/1772.jpg',\n",
       " 'test/10274.jpg',\n",
       " 'test/9803.jpg',\n",
       " 'test/2019.jpg',\n",
       " 'test/1651.jpg',\n",
       " 'test/12314.jpg',\n",
       " 'test/1470.jpg',\n",
       " 'test/925.jpg',\n",
       " 'test/7195.jpg',\n",
       " 'test/8935.jpg',\n",
       " 'test/3655.jpg',\n",
       " 'test/1765.jpg',\n",
       " 'test/183.jpg',\n",
       " 'test/7809.jpg',\n",
       " 'test/12035.jpg',\n",
       " 'test/10013.jpg',\n",
       " 'test/8555.jpg',\n",
       " 'test/4688.jpg',\n",
       " 'test/5047.jpg',\n",
       " 'test/10584.jpg',\n",
       " 'test/6427.jpg',\n",
       " 'test/9912.jpg',\n",
       " 'test/3080.jpg',\n",
       " 'test/2945.jpg',\n",
       " 'test/12409.jpg',\n",
       " 'test/4464.jpg',\n",
       " 'test/10345.jpg',\n",
       " 'test/8247.jpg',\n",
       " 'test/3947.jpg',\n",
       " 'test/11404.jpg',\n",
       " 'test/2516.jpg',\n",
       " 'test/11047.jpg',\n",
       " 'test/5908.jpg',\n",
       " 'test/4732.jpg',\n",
       " 'test/1211.jpg',\n",
       " 'test/4476.jpg',\n",
       " 'test/4630.jpg',\n",
       " 'test/280.jpg',\n",
       " 'test/4804.jpg',\n",
       " 'test/9420.jpg',\n",
       " 'test/3001.jpg',\n",
       " 'test/1480.jpg',\n",
       " 'test/11361.jpg',\n",
       " 'test/7375.jpg',\n",
       " 'test/2853.jpg',\n",
       " 'test/5812.jpg',\n",
       " 'test/1842.jpg',\n",
       " 'test/9503.jpg',\n",
       " 'test/10378.jpg',\n",
       " 'test/4663.jpg',\n",
       " 'test/4011.jpg',\n",
       " 'test/11860.jpg',\n",
       " 'test/2850.jpg',\n",
       " 'test/8268.jpg',\n",
       " 'test/1239.jpg',\n",
       " 'test/7458.jpg',\n",
       " 'test/3897.jpg',\n",
       " 'test/12439.jpg',\n",
       " 'test/2098.jpg',\n",
       " 'test/12375.jpg',\n",
       " 'test/10223.jpg',\n",
       " 'test/3617.jpg',\n",
       " 'test/74.jpg',\n",
       " 'test/5906.jpg',\n",
       " 'test/2781.jpg',\n",
       " 'test/806.jpg',\n",
       " 'test/9737.jpg',\n",
       " 'test/1915.jpg',\n",
       " 'test/12266.jpg',\n",
       " 'test/6295.jpg',\n",
       " 'test/7831.jpg',\n",
       " 'test/10060.jpg',\n",
       " 'test/8267.jpg',\n",
       " 'test/484.jpg',\n",
       " 'test/5466.jpg',\n",
       " 'test/5370.jpg',\n",
       " 'test/6682.jpg',\n",
       " 'test/1380.jpg',\n",
       " 'test/2208.jpg',\n",
       " 'test/9588.jpg',\n",
       " 'test/6113.jpg',\n",
       " 'test/145.jpg',\n",
       " 'test/2315.jpg',\n",
       " 'test/3928.jpg',\n",
       " 'test/5674.jpg',\n",
       " 'test/650.jpg',\n",
       " 'test/6530.jpg',\n",
       " 'test/5040.jpg',\n",
       " 'test/12094.jpg',\n",
       " 'test/11482.jpg',\n",
       " 'test/10712.jpg',\n",
       " 'test/4230.jpg',\n",
       " 'test/7445.jpg',\n",
       " 'test/4187.jpg',\n",
       " 'test/8031.jpg',\n",
       " 'test/3901.jpg',\n",
       " 'test/8123.jpg',\n",
       " 'test/2826.jpg',\n",
       " 'test/7868.jpg',\n",
       " 'test/9979.jpg',\n",
       " 'test/3871.jpg',\n",
       " 'test/3493.jpg',\n",
       " 'test/9659.jpg',\n",
       " 'test/5882.jpg',\n",
       " 'test/7443.jpg',\n",
       " 'test/7168.jpg',\n",
       " 'test/399.jpg',\n",
       " 'test/5920.jpg',\n",
       " 'test/1920.jpg',\n",
       " 'test/3665.jpg',\n",
       " 'test/11295.jpg',\n",
       " 'test/7070.jpg',\n",
       " 'test/1308.jpg',\n",
       " 'test/609.jpg',\n",
       " 'test/10100.jpg',\n",
       " 'test/586.jpg',\n",
       " 'test/1742.jpg',\n",
       " 'test/10677.jpg',\n",
       " 'test/7555.jpg',\n",
       " 'test/8766.jpg',\n",
       " 'test/553.jpg',\n",
       " 'test/1858.jpg',\n",
       " 'test/156.jpg',\n",
       " 'test/1668.jpg',\n",
       " 'test/5768.jpg',\n",
       " 'test/5954.jpg',\n",
       " 'test/12435.jpg',\n",
       " 'test/3830.jpg',\n",
       " 'test/6146.jpg',\n",
       " 'test/7753.jpg',\n",
       " 'test/10728.jpg',\n",
       " 'test/5478.jpg',\n",
       " 'test/11549.jpg',\n",
       " 'test/10577.jpg',\n",
       " 'test/11230.jpg',\n",
       " 'test/10012.jpg',\n",
       " 'test/5017.jpg',\n",
       " 'test/5925.jpg',\n",
       " 'test/85.jpg',\n",
       " 'test/2530.jpg',\n",
       " 'test/4870.jpg',\n",
       " 'test/7344.jpg',\n",
       " 'test/3141.jpg',\n",
       " 'test/6121.jpg',\n",
       " 'test/351.jpg',\n",
       " 'test/7541.jpg',\n",
       " 'test/3419.jpg',\n",
       " 'test/10111.jpg',\n",
       " 'test/4849.jpg',\n",
       " 'test/9413.jpg',\n",
       " 'test/4156.jpg',\n",
       " 'test/7166.jpg',\n",
       " 'test/4480.jpg',\n",
       " 'test/11022.jpg',\n",
       " 'test/7388.jpg',\n",
       " 'test/10558.jpg',\n",
       " 'test/9732.jpg',\n",
       " 'test/4680.jpg',\n",
       " 'test/4803.jpg',\n",
       " 'test/7130.jpg',\n",
       " 'test/8779.jpg',\n",
       " 'test/11224.jpg',\n",
       " 'test/1031.jpg',\n",
       " 'test/11532.jpg',\n",
       " 'test/4867.jpg',\n",
       " 'test/10684.jpg',\n",
       " 'test/9270.jpg',\n",
       " 'test/10827.jpg',\n",
       " 'test/8322.jpg',\n",
       " 'test/2054.jpg',\n",
       " 'test/4590.jpg',\n",
       " 'test/9096.jpg',\n",
       " 'test/2408.jpg',\n",
       " 'test/1224.jpg',\n",
       " 'test/2721.jpg',\n",
       " 'test/1271.jpg',\n",
       " 'test/1029.jpg',\n",
       " 'test/5617.jpg',\n",
       " 'test/4715.jpg',\n",
       " 'test/4193.jpg',\n",
       " 'test/3095.jpg',\n",
       " 'test/10327.jpg',\n",
       " 'test/9434.jpg',\n",
       " 'test/9809.jpg',\n",
       " 'test/12005.jpg',\n",
       " 'test/12272.jpg',\n",
       " 'test/4960.jpg',\n",
       " 'test/558.jpg',\n",
       " 'test/6280.jpg',\n",
       " 'test/4394.jpg',\n",
       " 'test/6511.jpg',\n",
       " 'test/6429.jpg',\n",
       " 'test/2094.jpg',\n",
       " 'test/10296.jpg',\n",
       " 'test/10068.jpg',\n",
       " 'test/2980.jpg',\n",
       " 'test/7307.jpg',\n",
       " 'test/7855.jpg',\n",
       " 'test/877.jpg',\n",
       " 'test/1844.jpg',\n",
       " 'test/872.jpg',\n",
       " 'test/1988.jpg',\n",
       " 'test/233.jpg',\n",
       " 'test/12008.jpg',\n",
       " 'test/7505.jpg',\n",
       " 'test/11807.jpg',\n",
       " 'test/7005.jpg',\n",
       " 'test/268.jpg',\n",
       " 'test/3411.jpg',\n",
       " 'test/8755.jpg',\n",
       " 'test/7553.jpg',\n",
       " 'test/2089.jpg',\n",
       " 'test/4442.jpg',\n",
       " 'test/6794.jpg',\n",
       " 'test/4928.jpg',\n",
       " 'test/1821.jpg',\n",
       " 'test/9556.jpg',\n",
       " 'test/7592.jpg',\n",
       " 'test/190.jpg',\n",
       " 'test/2194.jpg',\n",
       " 'test/1792.jpg',\n",
       " 'test/4716.jpg',\n",
       " 'test/4312.jpg',\n",
       " 'test/3244.jpg',\n",
       " 'test/676.jpg',\n",
       " 'test/690.jpg',\n",
       " 'test/8587.jpg',\n",
       " 'test/3992.jpg',\n",
       " 'test/9308.jpg',\n",
       " 'test/416.jpg',\n",
       " 'test/10488.jpg',\n",
       " 'test/11547.jpg',\n",
       " 'test/3988.jpg',\n",
       " 'test/5640.jpg',\n",
       " 'test/2007.jpg',\n",
       " 'test/903.jpg',\n",
       " 'test/6356.jpg',\n",
       " 'test/1976.jpg',\n",
       " 'test/3315.jpg',\n",
       " 'test/5210.jpg',\n",
       " 'test/3192.jpg',\n",
       " 'test/5209.jpg',\n",
       " 'test/10552.jpg',\n",
       " 'test/2536.jpg',\n",
       " 'test/6243.jpg',\n",
       " 'test/10462.jpg',\n",
       " 'test/9844.jpg',\n",
       " 'test/4115.jpg',\n",
       " 'test/6748.jpg',\n",
       " 'test/8760.jpg',\n",
       " 'test/12389.jpg',\n",
       " 'test/8759.jpg',\n",
       " 'test/5021.jpg',\n",
       " 'test/3890.jpg',\n",
       " 'test/5096.jpg',\n",
       " 'test/3873.jpg',\n",
       " 'test/9868.jpg',\n",
       " 'test/9558.jpg',\n",
       " 'test/11497.jpg',\n",
       " 'test/103.jpg',\n",
       " 'test/8645.jpg',\n",
       " 'test/5938.jpg',\n",
       " 'test/7781.jpg',\n",
       " 'test/12250.jpg',\n",
       " 'test/9860.jpg',\n",
       " 'test/11061.jpg',\n",
       " 'test/4438.jpg',\n",
       " 'test/2006.jpg',\n",
       " 'test/4877.jpg',\n",
       " 'test/4552.jpg',\n",
       " 'test/5871.jpg',\n",
       " 'test/2493.jpg',\n",
       " 'test/1596.jpg',\n",
       " 'test/3425.jpg',\n",
       " 'test/230.jpg',\n",
       " 'test/9894.jpg',\n",
       " 'test/10422.jpg',\n",
       " 'test/5206.jpg',\n",
       " 'test/3434.jpg',\n",
       " 'test/5191.jpg',\n",
       " 'test/8880.jpg',\n",
       " 'test/1706.jpg',\n",
       " 'test/9366.jpg',\n",
       " 'test/11961.jpg',\n",
       " 'test/8453.jpg',\n",
       " 'test/9130.jpg',\n",
       " 'test/4224.jpg',\n",
       " 'test/7199.jpg',\n",
       " 'test/8053.jpg',\n",
       " 'test/10943.jpg',\n",
       " 'test/2079.jpg',\n",
       " 'test/27.jpg',\n",
       " 'test/5255.jpg',\n",
       " 'test/11419.jpg',\n",
       " 'test/3409.jpg',\n",
       " 'test/2790.jpg',\n",
       " 'test/7048.jpg',\n",
       " 'test/4824.jpg',\n",
       " 'test/6793.jpg',\n",
       " 'test/112.jpg',\n",
       " 'test/6151.jpg',\n",
       " 'test/10181.jpg',\n",
       " 'test/8403.jpg',\n",
       " 'test/9616.jpg',\n",
       " 'test/12356.jpg',\n",
       " 'test/5155.jpg',\n",
       " 'test/1361.jpg',\n",
       " 'test/9684.jpg',\n",
       " 'test/4634.jpg',\n",
       " 'test/2572.jpg',\n",
       " 'test/4656.jpg',\n",
       " 'test/5777.jpg',\n",
       " 'test/1007.jpg',\n",
       " 'test/5465.jpg',\n",
       " 'test/8749.jpg',\n",
       " 'test/1614.jpg',\n",
       " 'test/10921.jpg',\n",
       " 'test/8733.jpg',\n",
       " 'test/10284.jpg',\n",
       " 'test/330.jpg',\n",
       " 'test/2876.jpg',\n",
       " 'test/5361.jpg',\n",
       " 'test/10777.jpg',\n",
       " 'test/9709.jpg',\n",
       " 'test/128.jpg',\n",
       " 'test/9650.jpg',\n",
       " 'test/3263.jpg',\n",
       " 'test/2406.jpg',\n",
       " 'test/7156.jpg',\n",
       " 'test/7356.jpg',\n",
       " 'test/6241.jpg',\n",
       " 'test/1557.jpg',\n",
       " 'test/2375.jpg',\n",
       " 'test/1734.jpg',\n",
       " 'test/11303.jpg',\n",
       " 'test/6103.jpg',\n",
       " 'test/4122.jpg',\n",
       " 'test/7428.jpg',\n",
       " 'test/9464.jpg',\n",
       " 'test/9509.jpg',\n",
       " 'test/11000.jpg',\n",
       " 'test/1624.jpg',\n",
       " 'test/10774.jpg',\n",
       " 'test/6291.jpg',\n",
       " 'test/1078.jpg',\n",
       " 'test/1643.jpg',\n",
       " 'test/9758.jpg',\n",
       " 'test/8223.jpg',\n",
       " 'test/2510.jpg',\n",
       " 'test/5472.jpg',\n",
       " 'test/4712.jpg',\n",
       " 'test/9778.jpg',\n",
       " 'test/9031.jpg',\n",
       " 'test/8472.jpg',\n",
       " 'test/6480.jpg',\n",
       " 'test/12185.jpg',\n",
       " 'test/6060.jpg',\n",
       " 'test/7524.jpg',\n",
       " 'test/6552.jpg',\n",
       " 'test/3807.jpg',\n",
       " 'test/10115.jpg',\n",
       " 'test/2979.jpg',\n",
       " 'test/3354.jpg',\n",
       " 'test/3413.jpg',\n",
       " 'test/4568.jpg',\n",
       " 'test/5165.jpg',\n",
       " 'test/3585.jpg',\n",
       " 'test/7392.jpg',\n",
       " 'test/671.jpg',\n",
       " 'test/6616.jpg',\n",
       " 'test/8397.jpg',\n",
       " 'test/10689.jpg',\n",
       " 'test/11334.jpg',\n",
       " 'test/1694.jpg',\n",
       " 'test/1775.jpg',\n",
       " 'test/8850.jpg',\n",
       " 'test/2357.jpg',\n",
       " 'test/11894.jpg',\n",
       " 'test/5479.jpg',\n",
       " 'test/3827.jpg',\n",
       " 'test/970.jpg',\n",
       " 'test/11102.jpg',\n",
       " 'test/3560.jpg',\n",
       " 'test/7693.jpg',\n",
       " 'test/11474.jpg',\n",
       " 'test/10869.jpg',\n",
       " 'test/3470.jpg',\n",
       " 'test/10764.jpg',\n",
       " 'test/7606.jpg',\n",
       " 'test/8769.jpg',\n",
       " 'test/342.jpg',\n",
       " 'test/9300.jpg',\n",
       " 'test/7395.jpg',\n",
       " 'test/4181.jpg',\n",
       " 'test/10524.jpg',\n",
       " 'test/11045.jpg',\n",
       " 'test/9835.jpg',\n",
       " 'test/11483.jpg',\n",
       " 'test/4348.jpg',\n",
       " 'test/4922.jpg',\n",
       " 'test/5200.jpg',\n",
       " 'test/4798.jpg',\n",
       " 'test/8034.jpg',\n",
       " 'test/9829.jpg',\n",
       " 'test/11874.jpg',\n",
       " 'test/5108.jpg',\n",
       " 'test/9541.jpg',\n",
       " 'test/7580.jpg',\n",
       " 'test/1724.jpg',\n",
       " 'test/9621.jpg',\n",
       " 'test/11028.jpg',\n",
       " 'test/3324.jpg',\n",
       " 'test/7907.jpg',\n",
       " 'test/6488.jpg',\n",
       " 'test/10930.jpg',\n",
       " 'test/8684.jpg',\n",
       " 'test/5336.jpg',\n",
       " 'test/3776.jpg',\n",
       " 'test/7259.jpg',\n",
       " 'test/11663.jpg',\n",
       " 'test/2153.jpg',\n",
       " 'test/5955.jpg',\n",
       " 'test/8338.jpg',\n",
       " 'test/4643.jpg',\n",
       " 'test/3417.jpg',\n",
       " 'test/10024.jpg',\n",
       " 'test/5144.jpg',\n",
       " 'test/1850.jpg',\n",
       " 'test/398.jpg',\n",
       " 'test/4167.jpg',\n",
       " 'test/4586.jpg',\n",
       " 'test/8835.jpg',\n",
       " 'test/4540.jpg',\n",
       " 'test/1861.jpg',\n",
       " 'test/1699.jpg',\n",
       " 'test/5632.jpg',\n",
       " 'test/8776.jpg',\n",
       " 'test/2322.jpg',\n",
       " 'test/6547.jpg',\n",
       " 'test/4755.jpg',\n",
       " 'test/2374.jpg',\n",
       " 'test/11697.jpg',\n",
       " 'test/6545.jpg',\n",
       " 'test/4272.jpg',\n",
       " 'test/10002.jpg',\n",
       " 'test/11840.jpg',\n",
       " 'test/1989.jpg',\n",
       " 'test/7817.jpg',\n",
       " ...]"
      ]
     },
     "execution_count": 77,
     "metadata": {},
     "output_type": "execute_result"
    }
   ],
   "source": [
    "filenames"
   ]
  },
  {
   "cell_type": "code",
   "execution_count": 78,
   "metadata": {
    "collapsed": false
   },
   "outputs": [
    {
     "data": {
      "text/plain": [
       "array([[  9.29200000e+03,   5.00000007e-02],\n",
       "       [  1.20260000e+04,   9.49999988e-01],\n",
       "       [  9.68800000e+03,   5.00000007e-02],\n",
       "       [  4.39200000e+03,   5.00000007e-02],\n",
       "       [  7.79000000e+02,   9.49999988e-01]])"
      ]
     },
     "execution_count": 78,
     "metadata": {},
     "output_type": "execute_result"
    }
   ],
   "source": [
    "isdog = preds[:,1]\n",
    "isdog = isdog.clip(min=0.05, max=0.95)\n",
    "ids = np.array([int(f[5:f.find('.')]) for f in filenames])\n",
    "subm = np.stack([ids,isdog], axis=1)\n",
    "subm[:5]"
   ]
  },
  {
   "cell_type": "code",
   "execution_count": 80,
   "metadata": {
    "collapsed": false
   },
   "outputs": [
    {
     "name": "stdout",
     "output_type": "stream",
     "text": [
      "/home/ubuntu/nbs/data\n",
      "/home/ubuntu/nbs\n"
     ]
    },
    {
     "data": {
      "text/html": [
       "<a href='data/submission1.csv' target='_blank'>data/submission1.csv</a><br>"
      ],
      "text/plain": [
       "/home/ubuntu/nbs/data/submission1.csv"
      ]
     },
     "execution_count": 80,
     "metadata": {},
     "output_type": "execute_result"
    }
   ],
   "source": [
    "%cd $DATA_HOME_DIR\n",
    "submission_file_name = 'submission1.csv'\n",
    "np.savetxt(submission_file_name, subm, fmt='%d,%.5f', header='id,label', comments='')\n",
    "from IPython.display import FileLink\n",
    "%cd $LESSON_HOME_DIR\n",
    "FileLink('data/'+submission_file_name)"
   ]
  },
  {
   "cell_type": "code",
   "execution_count": null,
   "metadata": {
    "collapsed": true
   },
   "outputs": [],
   "source": []
  }
 ],
 "metadata": {
  "anaconda-cloud": {},
  "kernelspec": {
   "display_name": "Python [conda root]",
   "language": "python",
   "name": "conda-root-py"
  },
  "language_info": {
   "codemirror_mode": {
    "name": "ipython",
    "version": 2
   },
   "file_extension": ".py",
   "mimetype": "text/x-python",
   "name": "python",
   "nbconvert_exporter": "python",
   "pygments_lexer": "ipython2",
   "version": "2.7.12"
  }
 },
 "nbformat": 4,
 "nbformat_minor": 1
}
